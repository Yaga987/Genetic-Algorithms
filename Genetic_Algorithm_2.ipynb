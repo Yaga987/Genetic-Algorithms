{
  "nbformat": 4,
  "nbformat_minor": 0,
  "metadata": {
    "colab": {
      "provenance": []
    },
    "kernelspec": {
      "name": "python3",
      "display_name": "Python 3"
    },
    "language_info": {
      "name": "python"
    }
  },
  "cells": [
    {
      "cell_type": "markdown",
      "source": [
        "*Define Problem:*\n",
        "\n",
        "There are multiple vehicles with different capacities and locations that need to make deliveries to various destinations. The goal is to find the most efficient routes for each vehicle that minimize the total distance traveled and maximize the number of deliveries made."
      ],
      "metadata": {
        "id": "qX698cIJoRPu"
      }
    },
    {
      "cell_type": "markdown",
      "source": [
        "Suppose there are 5 vehicles and 10 delivery locations. The capacities of the vehicles are:\n",
        "\n",
        "*  Vehicle 1: 3\n",
        "*  Vehicle 2: 4\n",
        "*  Vehicle 3: 2\n",
        "*  Vehicle 4: 5\n",
        "*  Vehicle 5: 3\n",
        "\n",
        "The coordinates of the delivery locations are:\n",
        "\n",
        "*  Location 1: (2, 5)\n",
        "*  Location 2: (8, 3)\n",
        "*  Location 3: (9, 9)\n",
        "*  Location 4: (4, 7)\n",
        "*  Location 5: (1, 2)\n",
        "*  Location 6: (6, 4)\n",
        "*  Location 7: (3, 8)\n",
        "*  Location 8: (7, 1)\n",
        "*  Location 9: (5, 6)\n",
        "*  Location 10: (10, 10)\n",
        "\n",
        "Each delivery location has a demand value indicating the number of deliveries that need to be made there:\n",
        "\n",
        "*  Location 1: 2\n",
        "*  Location 2: 3\n",
        "*  Location 3: 1\n",
        "*  Location 4: 2\n",
        "*  Location 5: 1\n",
        "*  Location 6: 3\n",
        "*  Location 7: 1\n",
        "*  Location 8: 2\n",
        "*  Location 9: 1\n",
        "*  Location 10: 2\n",
        "\n",
        "The goal is to find the most efficient routes for each vehicle that minimize the total distance traveled and maximize the number of deliveries made."
      ],
      "metadata": {
        "id": "sLKo0h4uC0mH"
      }
    },
    {
      "cell_type": "markdown",
      "source": [
        "*Import Library*"
      ],
      "metadata": {
        "id": "CbQ1Ep62pYUu"
      }
    },
    {
      "cell_type": "code",
      "source": [
        "import numpy as np\n",
        "import math\n",
        "import random\n",
        "import matplotlib.pyplot as plt"
      ],
      "metadata": {
        "id": "FD6Z1GHKoj_-"
      },
      "execution_count": 211,
      "outputs": []
    },
    {
      "cell_type": "markdown",
      "source": [
        "*Function*"
      ],
      "metadata": {
        "id": "LExlhqIMpot9"
      }
    },
    {
      "cell_type": "code",
      "source": [
        "# define constants\n",
        "POPULATION_SIZE = 50\n",
        "MUTATION_RATE = 0.01\n",
        "ELITE_SIZE = 2\n",
        "GENERATIONS = 100"
      ],
      "metadata": {
        "id": "yK27-GClppZG"
      },
      "execution_count": 212,
      "outputs": []
    },
    {
      "cell_type": "code",
      "source": [
        "vehicle_0 = [[0],[0],[3]] #X,Y and capacity\n",
        "vehicle_1 = [[0],[0],[4]]\n",
        "vehicle_2 = [[0],[0],[2]]\n",
        "vehicle_3 = [[0],[0],[5]]\n",
        "vehicle_4 = [[0],[0],[3]]\n",
        "\n",
        "Location_0 = [[2],[5],[2]] #X,Y and demand\n",
        "Location_1 = [[8],[3],[3]]\n",
        "Location_2 = [[9],[9],[1]]\n",
        "Location_3 = [[4],[7],[2]]\n",
        "Location_4 = [[1],[2],[1]]\n",
        "Location_5 = [[6],[4],[3]]\n",
        "Location_6 = [[3],[8],[1]]\n",
        "Location_7 = [[7],[1],[2]]\n",
        "Location_8 = [[5],[6],[1]]\n",
        "Location_9 = [[10],[10],[2]]"
      ],
      "metadata": {
        "id": "qDc-hQoIDy6-"
      },
      "execution_count": 213,
      "outputs": []
    },
    {
      "cell_type": "code",
      "source": [
        "location_list = [Location_0, Location_1, Location_2, Location_3, Location_4, \n",
        "             Location_5, Location_6, Location_7, Location_8, Location_9]\n",
        "vehicle_list = [vehicle_0, vehicle_1, vehicle_2, vehicle_3, vehicle_4]"
      ],
      "metadata": {
        "id": "bDtGLM6iItoW"
      },
      "execution_count": 214,
      "outputs": []
    },
    {
      "cell_type": "code",
      "source": [
        "def calculatedistance(vehicle, location):\n",
        "  x1, y1 = vehicle[0][0], vehicle[1][0]\n",
        "  x2, y2 = location[0][0], location[1][0]\n",
        "  distance = math.sqrt((x1 - x2)**2 + (y1 - y2)**2)\n",
        "  # print(f'Distance:{distance}')\n",
        "  return distance"
      ],
      "metadata": {
        "id": "0Bhhae2SEBI9"
      },
      "execution_count": 215,
      "outputs": []
    },
    {
      "cell_type": "code",
      "source": [
        "calculatedistance(vehicle_4,Location_3)"
      ],
      "metadata": {
        "colab": {
          "base_uri": "https://localhost:8080/"
        },
        "id": "3E7shI-vG1p-",
        "outputId": "69afdbfb-0f7f-4d3d-d9ab-e0042d00affc"
      },
      "execution_count": 216,
      "outputs": [
        {
          "output_type": "execute_result",
          "data": {
            "text/plain": [
              "8.06225774829855"
            ]
          },
          "metadata": {},
          "execution_count": 216
        }
      ]
    },
    {
      "cell_type": "code",
      "source": [
        "def create_individual():\n",
        "    # Creates a new individual (i.e. a list of deliveries for each vehicle)\n",
        "    individual = []\n",
        "    for i in range(len(vehicle_list)):\n",
        "        deliveries = []\n",
        "        for j in range(len(location_list)):\n",
        "            if location_list[j][2][0] <= vehicle_list[i][2][0]:\n",
        "                deliveries.append(j)\n",
        "        individual.append(deliveries)\n",
        "    return individual"
      ],
      "metadata": {
        "id": "hEOXfR7VKy_X"
      },
      "execution_count": 217,
      "outputs": []
    },
    {
      "cell_type": "code",
      "source": [
        "def calculate_fitness(individual):\n",
        "    # Calculates the fitness of an individual by summing the distance traveled by each vehicle\n",
        "    total_distance = 0\n",
        "    total_deliveries = 0\n",
        "    for i in range(len(individual)):\n",
        "        vehicle = vehicle_list[i]\n",
        "        deliveries = individual[i]\n",
        "        if len(deliveries) == 0:\n",
        "            continue\n",
        "        # Calculate the distance from the vehicle's starting location to the first delivery location\n",
        "        total_distance += calculatedistance(vehicle, location_list[deliveries[0]])\n",
        "        # Calculate the distance between subsequent delivery locations\n",
        "        for j in range(len(deliveries) - 1):\n",
        "            total_distance += calculatedistance(location_list[deliveries[j]], location_list[deliveries[j+1]])\n",
        "        # Calculate the distance from the last delivery location to the vehicle's starting location\n",
        "        total_distance += calculatedistance(location_list[deliveries[-1]], vehicle)\n",
        "        # Increment the number of deliveries made by the vehicle\n",
        "        total_deliveries += len(deliveries)\n",
        "    # Calculate the fitness as a combination of the total distance traveled (minimize) and the number of deliveries made (maximize)\n",
        "    fitness = 1 / (total_distance + total_deliveries)\n",
        "    return fitness"
      ],
      "metadata": {
        "id": "VmzdzgipK3hV"
      },
      "execution_count": 218,
      "outputs": []
    },
    {
      "cell_type": "code",
      "source": [
        "def crossover(parent1, parent2):\n",
        "    # Performs crossover between two parents by selecting a random delivery from each parent for each vehicle\n",
        "    child = []\n",
        "    for i in range(len(parent1)):\n",
        "        deliveries = []\n",
        "        for j in range(len(parent1[i])):\n",
        "            if random.random() < 0.5:\n",
        "                deliveries.append(parent1[i][j])\n",
        "            else:\n",
        "                deliveries.append(parent2[i][j])\n",
        "        child.append(deliveries)\n",
        "    return child"
      ],
      "metadata": {
        "id": "IpT6sYzxK6T9"
      },
      "execution_count": 219,
      "outputs": []
    },
    {
      "cell_type": "code",
      "source": [
        "def mutate(individual, MUTATION_RATE=0.1):\n",
        "    # Performs mutation on an individual by randomly selecting a delivery for each vehicle and adding or removing it\n",
        "    for i in range(len(individual)):\n",
        "        if random.random() < MUTATION_RATE:\n",
        "            deliveries = individual[i]\n",
        "            if len(deliveries) == 0:\n",
        "                deliveries.append(random.randint(0, len(location_list) - 1))\n",
        "            elif len(deliveries) == 1:\n",
        "                if random.random() < 0.5:\n",
        "                    deliveries.append(random.randint(0, len(location_list) - 1))\n",
        "                else:\n",
        "                    deliveries = []\n",
        "            else:\n",
        "                if random.random() < 0.5:\n",
        "                    deliveries.pop(random.randint(0, len(deliveries) - 1))\n",
        "                else:\n",
        "                    deliveries.insert(random.randint(0, len(deliveries) - 1), random.randint(0, len(location_list) - 1))\n",
        "            individual[i] = deliveries\n",
        "    return individual"
      ],
      "metadata": {
        "id": "vYVYrV3jK9iE"
      },
      "execution_count": 220,
      "outputs": []
    },
    {
      "cell_type": "code",
      "source": [
        "def tournament_selection(population, fitnesses):\n",
        "    # Set the tournament size to be 2\n",
        "    tournament_size = 2\n",
        "    # Initialize the selected individuals list\n",
        "    selected_individuals = []\n",
        "    # Perform tournament selection until we have selected enough individuals\n",
        "    while len(selected_individuals) < len(population):\n",
        "        # Randomly select tournament_size individuals from the population\n",
        "        tournament = random.sample(range(len(population)), tournament_size)\n",
        "        # Find the index of the individual with the highest fitness score in the tournament\n",
        "        winner_index = max(tournament, key=lambda k: fitnesses[k])\n",
        "        # Add the winner to the list of selected individuals\n",
        "        selected_individuals.append(population[winner_index])\n",
        "    return selected_individuals"
      ],
      "metadata": {
        "id": "AvSwQ-C3MJOh"
      },
      "execution_count": 221,
      "outputs": []
    },
    {
      "cell_type": "code",
      "source": [
        "# Initialize the population\n",
        "population = [create_individual() for i in range(POPULATION_SIZE)]"
      ],
      "metadata": {
        "id": "5sebKADDLA68"
      },
      "execution_count": 222,
      "outputs": []
    },
    {
      "cell_type": "code",
      "source": [
        "# Main loop\n",
        "for generation in range(GENERATIONS):\n",
        "    print(f'=== Gen{generation} === ')\n",
        "    # Calculate the fitness of each individual\n",
        "    fitnesses = [calculate_fitness(individual) for individual in population]\n",
        "    # Select the elites (i.e. the top 2 individuals)\n",
        "    elites = sorted(range(len(fitnesses)), key=lambda k: fitnesses[k], reverse=True)[:2]\n",
        "    # Perform selection and crossover to create the next generation\n",
        "    # Initialize the next generation with the elites\n",
        "    next_generation = [population[i] for i in elites]\n",
        "\n",
        "    # Create the rest of the population through selection and crossover\n",
        "    while len(next_generation) < POPULATION_SIZE:\n",
        "        # Select two parents using tournament selection\n",
        "        parent1 = tournament_selection(population, fitnesses)\n",
        "        parent2 = tournament_selection(population, fitnesses)\n",
        "\n",
        "        # Perform crossover to create two children\n",
        "        children = crossover(parent1, parent2)\n",
        "        child1 = children[0]\n",
        "        child2 = children[1]\n",
        "\n",
        "        # Mutate the children\n",
        "        child1 = mutate(child1, MUTATION_RATE)\n",
        "        child2 = mutate(child2, MUTATION_RATE)\n",
        "\n",
        "        # Add the children to the next generation\n",
        "        next_generation.append(child1)\n",
        "        if len(next_generation) < POPULATION_SIZE:\n",
        "            next_generation.append(child2)\n",
        "\n",
        "    # Update the population\n",
        "    population = next_generation\n",
        "\n",
        "    # Print the best individual of the current generation\n",
        "    best_individual_index = max(range(len(fitnesses)), key=lambda k: fitnesses[k])\n",
        "    best_individual = population[best_individual_index]\n",
        "    best_fitness = fitnesses[best_individual_index]\n",
        "    print(f\"Generation {generation}: Best individual = {best_individual}, Best fitness = {best_fitness}\")"
      ],
      "metadata": {
        "colab": {
          "base_uri": "https://localhost:8080/"
        },
        "id": "L9GGAIpxLD8d",
        "outputId": "d3c56a05-7b6a-4dd1-d711-cabeaab07aaf"
      },
      "execution_count": 223,
      "outputs": [
        {
          "output_type": "stream",
          "name": "stdout",
          "text": [
            "=== Gen0 === \n",
            "Generation 0: Best individual = [[0, 1, 2, 3, 4, 5, 6, 7, 8, 9], [0, 1, 2, 3, 4, 5, 6, 7, 8, 9], [0, 2, 3, 4, 6, 7, 8, 9], [0, 1, 2, 3, 4, 5, 6, 7, 8, 9], [0, 1, 2, 3, 4, 5, 6, 7, 8, 9]], Best fitness = 0.002459863856897593\n",
            "=== Gen1 === \n",
            "Generation 1: Best individual = [[0, 1, 2, 3, 4, 5, 6, 7, 8, 9], [0, 1, 2, 3, 4, 5, 6, 7, 8, 9], [0, 2, 3, 4, 6, 7, 8, 9], [0, 1, 2, 3, 4, 5, 6, 7, 8, 9], [0, 1, 2, 3, 4, 5, 6, 7, 8, 9]], Best fitness = 0.002459863856897593\n",
            "=== Gen2 === \n",
            "Generation 2: Best individual = [[0, 1, 2, 3, 4, 5, 6, 7, 8, 9], [0, 1, 2, 3, 4, 5, 6, 7, 8, 9], [0, 2, 3, 4, 6, 7, 8, 9], [0, 1, 2, 3, 4, 5, 6, 7, 8, 9], [1, 2, 3, 4, 5, 6, 7, 8, 9]], Best fitness = 0.0024853312830756635\n",
            "=== Gen3 === \n",
            "Generation 3: Best individual = [[0, 1, 2, 3, 4, 5, 6, 7, 8, 9], [0, 1, 2, 3, 4, 5, 6, 7, 8, 9], [0, 2, 3, 4, 6, 7, 8, 9], [0, 1, 2, 3, 4, 5, 6, 7, 8, 9], [1, 2, 3, 4, 5, 6, 7, 8, 9]], Best fitness = 0.00253223812681996\n",
            "=== Gen4 === \n",
            "Generation 4: Best individual = [[0, 1, 2, 3, 4, 5, 6, 8, 9], [0, 1, 2, 3, 4, 5, 6, 7, 8, 9], [0, 2, 3, 4, 6, 7, 8, 9], [0, 1, 2, 3, 4, 5, 6, 7, 8, 9], [0, 1, 2, 3, 4, 5, 6, 7, 8, 9]], Best fitness = 0.00253223812681996\n",
            "=== Gen5 === \n",
            "Generation 5: Best individual = [[0, 1, 2, 3, 4, 5, 6, 8, 9], [0, 1, 3, 4, 5, 6, 7, 8], [0, 2, 3, 4, 6, 7, 8, 9], [0, 1, 2, 3, 4, 5, 6, 7, 8, 9], [0, 1, 2, 3, 4, 5, 6, 7, 8, 9]], Best fitness = 0.0026234837208682533\n",
            "=== Gen6 === \n",
            "Generation 6: Best individual = [[0, 1, 2, 3, 4, 5, 6, 8, 0, 9], [0, 1, 2, 3, 4, 5, 6, 7, 8, 9], [0, 2, 3, 4, 6, 7, 8, 9], [0, 1, 2, 3, 4, 5, 6, 7, 8, 9], [1, 2, 5, 3, 4, 5, 6, 7, 8, 9]], Best fitness = 0.002701273449851181\n",
            "=== Gen7 === \n",
            "Generation 7: Best individual = [[0, 2, 3, 4, 5, 6, 8, 0, 9], [0, 1, 1, 3, 9, 5, 6, 7, 8], [0, 2, 6, 3, 4, 6, 7, 8, 9], [0, 1, 2, 3, 4, 5, 6, 7, 8, 9], [1, 2, 5, 3, 4, 5, 6, 7, 8, 9]], Best fitness = 0.0026208567521768165\n",
            "=== Gen8 === \n",
            "Generation 8: Best individual = [[0, 2, 3, 4, 5, 6, 8, 0, 9], [0, 1, 1, 3, 9, 5, 6, 7, 8], [0, 2, 3, 4, 6, 7, 8, 9], [0, 1, 2, 3, 4, 9, 5, 6, 7, 8, 9], [0, 1, 2, 3, 4, 5, 6, 7, 8, 9]], Best fitness = 0.002632183318420335\n",
            "=== Gen9 === \n",
            "Generation 9: Best individual = [[0, 2, 3, 4, 5, 6, 8, 0, 9], [0, 1, 1, 3, 9, 5, 6, 7, 8], [0, 2, 3, 4, 6, 7, 8, 9], [0, 1, 2, 3, 4, 5, 6, 7, 8, 9], [4, 1, 2, 5, 3, 4, 5, 6, 7, 8, 9]], Best fitness = 0.002632183318420335\n",
            "=== Gen10 === \n",
            "Generation 10: Best individual = [[0, 2, 3, 4, 5, 6, 8, 0, 9], [0, 1, 1, 3, 9, 5, 6, 7, 8], [0, 2, 3, 4, 6, 7, 8, 9], [0, 1, 2, 3, 4, 5, 6, 7, 8, 9], [0, 1, 2, 3, 4, 5, 6, 7, 8, 9]], Best fitness = 0.002632183318420335\n",
            "=== Gen11 === \n",
            "Generation 11: Best individual = [[0, 2, 3, 4, 5, 6, 8, 0, 9], [1, 1, 3, 9, 5, 6, 7, 8], [0, 2, 3, 4, 6, 7, 8, 9], [0, 1, 2, 3, 4, 6, 7, 8, 9], [0, 1, 2, 3, 4, 5, 6, 7, 8, 9]], Best fitness = 0.002632183318420335\n",
            "=== Gen12 === \n",
            "Generation 12: Best individual = [[0, 2, 3, 4, 5, 6, 8, 0, 9], [1, 1, 3, 9, 5, 6, 7, 8], [0, 2, 3, 4, 6, 7, 8, 9], [0, 1, 2, 3, 4, 6, 7, 8, 9], [0, 1, 1, 2, 3, 4, 5, 6, 7, 8, 9]], Best fitness = 0.0026976979408516576\n",
            "=== Gen13 === \n",
            "Generation 13: Best individual = [[0, 2, 3, 4, 5, 6, 8, 0, 9], [1, 1, 3, 9, 5, 6, 7, 8], [0, 2, 3, 4, 6, 7, 8, 9], [0, 1, 2, 3, 4, 6, 7, 8, 9], [0, 1, 2, 3, 4, 5, 6, 7, 8, 9]], Best fitness = 0.0026976979408516576\n",
            "=== Gen14 === \n",
            "Generation 14: Best individual = [[0, 2, 3, 4, 5, 6, 8, 0, 9], [1, 1, 3, 9, 5, 6, 7, 8], [0, 2, 3, 4, 6, 7, 8, 9], [0, 1, 1, 2, 3, 4, 6, 7, 8, 9], [0, 1, 3, 4, 5, 5, 6, 7, 8, 9]], Best fitness = 0.0026976979408516576\n",
            "=== Gen15 === \n",
            "Generation 15: Best individual = [[0, 2, 3, 4, 5, 6, 8, 0, 9], [1, 1, 3, 9, 1, 5, 6, 7, 8], [0, 2, 3, 4, 7, 8, 9], [0, 1, 1, 2, 3, 4, 6, 7, 8, 9], [0, 1, 3, 4, 5, 5, 6, 7, 8, 9]], Best fitness = 0.0028044881957305394\n",
            "=== Gen16 === \n",
            "Generation 16: Best individual = [[0, 2, 3, 1, 9, 4, 5, 6, 8, 0, 9], [1, 1, 3, 9, 1, 5, 6, 7, 8], [0, 2, 3, 4, 7, 8, 9], [0, 1, 1, 1, 2, 3, 4, 6, 7, 8, 9], [0, 1, 3, 4, 5, 5, 7, 8, 6, 7, 8, 9]], Best fitness = 0.0027787320045452248\n",
            "=== Gen17 === \n",
            "Generation 17: Best individual = [[0, 2, 3, 1, 9, 4, 5, 6, 8, 0, 9], [1, 1, 9, 3, 9, 1, 5, 6, 7, 8], [0, 2, 3, 2, 4, 7, 8, 9], [0, 1, 1, 1, 2, 3, 4, 6, 7, 7, 8, 9], [0, 0, 1, 3, 4, 5, 5, 7, 8, 6, 7, 8, 9]], Best fitness = 0.002561476386834071\n",
            "=== Gen18 === \n",
            "Generation 18: Best individual = [[0, 2, 3, 3, 1, 9, 4, 5, 6, 8, 0, 9], [1, 1, 9, 3, 9, 1, 6, 7, 8], [0, 2, 3, 2, 4, 7, 8, 9], [0, 1, 1, 1, 2, 3, 4, 6, 7, 7, 8, 9], [0, 0, 1, 3, 4, 5, 5, 7, 8, 7, 8, 9]], Best fitness = 0.0024328807065894997\n",
            "=== Gen19 === \n",
            "Generation 19: Best individual = [[0, 2, 3, 3, 1, 9, 4, 5, 6, 8, 0, 9], [1, 1, 9, 3, 9, 1, 6, 7, 8], [0, 2, 3, 4, 6, 7, 8, 9], [0, 1, 1, 3, 4, 6, 7, 7, 8, 9], [0, 0, 1, 3, 4, 5, 5, 7, 8, 7, 8, 9]], Best fitness = 0.002473014215564215\n",
            "=== Gen20 === \n",
            "Generation 20: Best individual = [[0, 2, 3, 3, 1, 9, 4, 5, 6, 8, 0], [1, 1, 9, 3, 9, 1, 6, 7, 8], [0, 2, 3, 4, 6, 7, 8, 9], [0, 1, 1, 3, 4, 6, 7, 7, 8, 9], [0, 0, 1, 3, 4, 5, 5, 7, 3, 8, 7, 8, 9]], Best fitness = 0.0025217261339714517\n",
            "=== Gen21 === \n",
            "Generation 21: Best individual = [[0, 2, 3, 3, 1, 9, 7, 5, 6, 8, 0], [1, 1, 9, 3, 9, 3, 1, 6, 7, 8], [0, 2, 3, 4, 6, 7, 8, 9], [0, 1, 1, 6, 3, 4, 6, 7, 7, 8, 9], [0, 0, 1, 3, 4, 5, 5, 7, 3, 8, 7, 8, 9]], Best fitness = 0.002623982734012222\n",
            "=== Gen22 === \n",
            "Generation 22: Best individual = [[0, 2, 3, 1, 9, 7, 5, 6, 8, 0], [1, 9, 3, 9, 3, 1, 6, 7, 8], [0, 3, 4, 6, 7, 8, 9], [0, 1, 1, 6, 3, 4, 6, 7, 7, 8, 9], [0, 0, 1, 3, 4, 5, 5, 7, 3, 8, 7, 8, 9]], Best fitness = 0.0025890919800256886\n",
            "=== Gen23 === \n",
            "Generation 23: Best individual = [[0, 2, 3, 1, 9, 7, 5, 6, 8, 0], [1, 9, 3, 9, 3, 1, 6, 7, 8], [0, 3, 4, 6, 7, 8, 9], [0, 1, 1, 2, 6, 3, 4, 6, 7, 7, 8, 9], [0, 0, 1, 3, 4, 5, 5, 7, 3, 8, 8, 9]], Best fitness = 0.0026837222593322925\n",
            "=== Gen24 === \n",
            "Generation 24: Best individual = [[0, 2, 3, 1, 9, 7, 4, 5, 6, 8, 0], [1, 9, 3, 9, 3, 1, 6, 7, 8], [0, 3, 4, 6, 7, 8, 9], [0, 1, 1, 2, 6, 3, 4, 6, 7, 7, 8, 9], [0, 0, 1, 3, 4, 5, 5, 7, 3, 8, 8, 9]], Best fitness = 0.0027252342953766454\n",
            "=== Gen25 === \n",
            "Generation 25: Best individual = [[0, 3, 1, 9, 7, 4, 5, 6, 8, 0], [1, 9, 9, 3, 1, 6, 6, 7, 8], [0, 3, 4, 6, 7, 8, 9], [0, 1, 1, 2, 6, 3, 4, 6, 7, 7, 8, 9], [0, 0, 1, 3, 4, 5, 5, 7, 3, 8, 8, 9]], Best fitness = 0.0026578314878042564\n",
            "=== Gen26 === \n",
            "Generation 26: Best individual = [[0, 3, 1, 9, 7, 4, 5, 6, 8, 0], [1, 9, 9, 3, 1, 6, 6, 7, 8], [0, 2, 2, 3, 4, 6, 8, 9], [0, 1, 1, 2, 6, 3, 4, 6, 7, 7, 8, 9], [0, 0, 1, 3, 4, 5, 5, 7, 3, 8, 8, 9]], Best fitness = 0.0028472898198207922\n",
            "=== Gen27 === \n",
            "Generation 27: Best individual = [[0, 3, 1, 9, 7, 4, 7, 5, 6, 8, 0], [9, 9, 3, 1, 6, 6, 7, 8], [0, 3, 4, 6, 7, 8, 9], [0, 1, 1, 2, 6, 3, 4, 6, 7, 7, 8, 9], [0, 0, 1, 3, 4, 5, 5, 7, 3, 8, 8, 9]], Best fitness = 0.002847289819820792\n",
            "=== Gen28 === \n",
            "Generation 28: Best individual = [[0, 3, 1, 9, 7, 4, 7, 5, 6, 8, 0], [9, 9, 3, 6, 6, 7, 8], [0, 3, 4, 6, 7, 8, 9], [0, 1, 1, 2, 6, 3, 4, 6, 7, 7, 8, 9], [0, 0, 1, 3, 4, 5, 5, 7, 3, 8, 8, 9]], Best fitness = 0.002829742290704426\n",
            "=== Gen29 === \n",
            "Generation 29: Best individual = [[0, 1, 9, 7, 4, 7, 5, 6, 8, 0], [9, 9, 7, 3, 6, 6, 7, 8], [0, 4, 6, 7, 8, 9], [0, 1, 1, 2, 6, 3, 4, 6, 7, 7, 8, 9], [0, 0, 1, 3, 4, 5, 5, 7, 3, 8, 8, 9]], Best fitness = 0.0029319033539179514\n",
            "=== Gen30 === \n",
            "Generation 30: Best individual = [[0, 1, 9, 7, 4, 7, 5, 4, 6, 8, 0], [9, 9, 7, 3, 6, 6, 7, 8], [0, 4, 6, 7, 8, 9], [0, 1, 1, 6, 3, 4, 6, 7, 7, 8, 9], [0, 0, 1, 1, 3, 4, 5, 5, 9, 7, 3, 8, 8, 9]], Best fitness = 0.0029247944532193137\n",
            "=== Gen31 === \n",
            "Generation 31: Best individual = [[0, 1, 9, 7, 4, 7, 5, 6, 8, 0], [9, 9, 7, 3, 6, 6, 7, 8], [0, 4, 5, 6, 7, 8, 9], [0, 1, 1, 6, 3, 4, 6, 7, 7, 8], [0, 0, 1, 1, 3, 4, 5, 5, 9, 7, 3, 8, 8, 9]], Best fitness = 0.0027850863931964407\n",
            "=== Gen32 === \n",
            "Generation 32: Best individual = [[0, 1, 9, 7, 4, 7, 5, 6, 8, 0], [9, 9, 7, 3, 6, 6, 7, 8], [0, 4, 5, 6, 7, 8, 9], [1, 1, 6, 3, 4, 6, 7, 9, 7, 8], [0, 0, 1, 1, 3, 4, 5, 5, 9, 7, 3, 8, 8, 9]], Best fitness = 0.0029182496009746966\n",
            "=== Gen33 === \n",
            "Generation 33: Best individual = [[0, 1, 9, 7, 4, 7, 5, 6, 8, 0], [9, 9, 7, 3, 6, 6, 7, 8], [0, 4, 6, 8, 9], [1, 1, 6, 3, 4, 6, 7, 9, 7, 8], [0, 0, 1, 1, 3, 4, 5, 5, 9, 7, 3, 8, 8, 9]], Best fitness = 0.0027895627674692663\n",
            "=== Gen34 === \n",
            "Generation 34: Best individual = [[0, 1, 9, 7, 4, 7, 6, 8, 0], [9, 9, 7, 3, 6, 7, 8], [0, 4, 6, 8, 9], [1, 1, 6, 3, 4, 6, 7, 0, 9, 7, 8], [0, 0, 1, 1, 3, 4, 5, 5, 9, 7, 3, 8, 8, 9]], Best fitness = 0.002925691705916569\n",
            "=== Gen35 === \n",
            "Generation 35: Best individual = [[0, 9, 7, 4, 7, 6, 8, 0], [9, 9, 7, 8, 3, 6, 7, 8], [4, 6, 8, 9], [1, 1, 6, 3, 4, 6, 7, 0, 9, 7, 8], [0, 0, 1, 1, 3, 4, 5, 5, 9, 7, 3, 8, 8, 9]], Best fitness = 0.0028814311368041377\n",
            "=== Gen36 === \n",
            "Generation 36: Best individual = [[0, 9, 7, 4, 7, 6, 8], [9, 9, 7, 8, 3, 6, 7, 8], [4, 6, 8, 9], [1, 1, 6, 3, 4, 6, 7, 0, 9, 7, 8], [0, 0, 1, 1, 3, 4, 5, 5, 9, 7, 3, 3, 8, 8, 9]], Best fitness = 0.002979215077709504\n",
            "=== Gen37 === \n",
            "Generation 37: Best individual = [[9, 7, 4, 7, 6, 8], [9, 9, 7, 8, 3, 6, 7, 8], [2, 4, 6, 8, 9], [1, 1, 6, 3, 4, 6, 7, 0, 9, 7, 8], [0, 0, 1, 1, 3, 5, 5, 9, 7, 3, 3, 8, 8, 9]], Best fitness = 0.002985772598332865\n",
            "=== Gen38 === \n",
            "Generation 38: Best individual = [[9, 7, 4, 7, 6, 8], [9, 9, 7, 8, 3, 6, 7, 8], [2, 4, 6, 8, 9], [1, 1, 6, 3, 4, 6, 7, 0, 9, 7, 8], [0, 0, 1, 1, 3, 5, 5, 9, 7, 3, 3, 8, 8, 9]], Best fitness = 0.002883871296316379\n",
            "=== Gen39 === \n",
            "Generation 39: Best individual = [[9, 7, 4, 7, 6, 8], [9, 7, 8, 3, 6, 7, 8], [2, 4, 6, 8, 9], [1, 1, 6, 3, 4, 6, 7, 0, 9, 7, 8], [0, 0, 1, 1, 3, 5, 5, 9, 7, 3, 3, 8, 8, 9]], Best fitness = 0.002883871296316379\n",
            "=== Gen40 === \n",
            "Generation 40: Best individual = [[9, 7, 4, 7, 6, 8], [9, 7, 8, 3, 6, 7, 8], [2, 7, 4, 6, 8, 9], [1, 1, 6, 3, 4, 6, 7, 0, 9, 7, 8], [0, 0, 1, 1, 3, 5, 5, 9, 7, 3, 3, 8, 8, 9]], Best fitness = 0.0028922120636696563\n",
            "=== Gen41 === \n",
            "Generation 41: Best individual = [[9, 7, 4, 7, 6, 8], [9, 7, 8, 3, 6, 7, 8], [2, 8, 7, 4, 6, 8, 9], [8, 1, 1, 6, 3, 4, 6, 7, 0, 9, 7, 8], [0, 0, 1, 1, 3, 5, 5, 9, 7, 3, 3, 8, 8, 9]], Best fitness = 0.002853433877481922\n",
            "=== Gen42 === \n",
            "Generation 42: Best individual = [[9, 4, 7, 6, 8], [9, 7, 8, 3, 6, 7, 8], [7, 2, 8, 7, 4, 6, 8, 9], [8, 1, 1, 6, 3, 4, 6, 7, 0, 8, 9, 7, 8], [0, 0, 1, 1, 3, 5, 5, 9, 7, 3, 3, 8, 8, 9]], Best fitness = 0.002792494372363789\n",
            "=== Gen43 === \n",
            "Generation 43: Best individual = [[9, 4, 7, 6, 8], [9, 7, 8, 3, 6, 7, 8], [7, 2, 8, 7, 9, 6, 8, 9], [8, 1, 1, 6, 3, 4, 6, 7, 0, 8, 9, 7, 8], [0, 6, 0, 1, 1, 3, 5, 5, 9, 7, 3, 3, 8, 8, 9]], Best fitness = 0.0027909919026395066\n",
            "=== Gen44 === \n",
            "Generation 44: Best individual = [[9, 4, 6, 7, 6, 8, 8], [9, 7, 8, 3, 6, 7, 8], [7, 2, 8, 7, 9, 6, 8, 9], [8, 1, 1, 6, 3, 4, 6, 7, 0, 3, 8, 9, 7, 8], [0, 6, 0, 1, 1, 3, 5, 5, 9, 7, 3, 3, 8, 8, 9]], Best fitness = 0.0027028507171288478\n",
            "=== Gen45 === \n",
            "Generation 45: Best individual = [[9, 4, 6, 7, 6, 8, 8], [9, 7, 8, 3, 6, 7, 8], [7, 0, 2, 8, 7, 9, 6, 8, 9], [8, 1, 1, 6, 3, 4, 6, 7, 0, 3, 8, 9, 7, 8], [0, 6, 0, 1, 1, 3, 5, 5, 9, 7, 3, 3, 8, 8, 9]], Best fitness = 0.0026153079363664664\n",
            "=== Gen46 === \n",
            "Generation 46: Best individual = [[9, 4, 6, 7, 6, 8, 8], [9, 7, 8, 3, 6, 2, 8], [7, 0, 2, 8, 7, 9, 6, 8, 9], [8, 1, 1, 6, 3, 4, 6, 7, 0, 3, 8, 9, 7, 8], [0, 6, 0, 1, 1, 3, 5, 5, 9, 7, 3, 3, 8, 8, 9]], Best fitness = 0.0025668449929128773\n",
            "=== Gen47 === \n",
            "Generation 47: Best individual = [[9, 4, 6, 7, 6, 8, 8], [9, 7, 8, 3, 6, 2], [7, 0, 8, 2, 8, 7, 9, 6, 8, 9], [8, 1, 1, 1, 6, 3, 4, 6, 7, 0, 3, 8, 9, 7, 8], [0, 6, 0, 1, 1, 3, 5, 5, 9, 7, 3, 8, 3, 8, 8, 9]], Best fitness = 0.002582520156167733\n",
            "=== Gen48 === \n",
            "Generation 48: Best individual = [[9, 4, 6, 6, 8, 8], [9, 7, 8, 3, 6, 2], [7, 0, 8, 2, 8, 7, 9, 6, 8, 9], [8, 1, 1, 1, 6, 3, 4, 6, 7, 0, 3, 8, 9, 7, 8], [0, 6, 0, 1, 1, 3, 5, 5, 9, 7, 3, 8, 3, 8, 8, 9]], Best fitness = 0.0025505988980669488\n",
            "=== Gen49 === \n",
            "Generation 49: Best individual = [[9, 4, 6, 6, 8, 8], [9, 7, 3, 6, 2], [7, 0, 8, 2, 8, 7, 9, 6, 8], [8, 1, 1, 1, 6, 3, 4, 6, 7, 0, 3, 8, 4, 9, 7, 8], [0, 6, 0, 1, 1, 3, 5, 5, 9, 7, 3, 8, 3, 8, 8, 9]], Best fitness = 0.0026670915084921077\n",
            "=== Gen50 === \n",
            "Generation 50: Best individual = [[9, 4, 6, 6, 8, 8], [9, 3, 6, 2], [7, 0, 8, 2, 8, 7, 9, 6, 8], [8, 1, 1, 1, 3, 4, 6, 7, 0, 3, 8, 4, 9, 7, 8], [0, 6, 0, 1, 1, 3, 5, 5, 9, 7, 3, 8, 3, 8, 8, 9]], Best fitness = 0.0026852168167908206\n",
            "=== Gen51 === \n",
            "Generation 51: Best individual = [[9, 4, 6, 6, 8, 8], [5, 9, 3, 6, 2], [7, 0, 8, 2, 8, 7, 9, 6, 8], [8, 1, 1, 1, 3, 4, 6, 7, 0, 3, 8, 4, 2, 9, 7, 8], [0, 6, 0, 1, 1, 3, 5, 9, 7, 3, 8, 3, 8, 8, 9]], Best fitness = 0.002792561708074108\n",
            "=== Gen52 === \n",
            "Generation 52: Best individual = [[9, 4, 6, 8, 8], [5, 9, 3, 6, 2], [7, 0, 8, 2, 8, 7, 9, 6, 8], [8, 1, 1, 3, 4, 6, 7, 0, 3, 8, 4, 2, 2, 7, 8], [0, 6, 0, 1, 1, 3, 5, 9, 7, 3, 8, 3, 8, 8, 9]], Best fitness = 0.0027825933626617503\n",
            "=== Gen53 === \n",
            "Generation 53: Best individual = [[9, 4, 6, 8, 8], [5, 9, 3, 6, 2], [7, 0, 8, 2, 8, 7, 9, 6, 8], [8, 1, 1, 3, 4, 6, 7, 0, 3, 8, 4, 2, 9, 2, 7, 8], [0, 6, 0, 1, 1, 3, 5, 9, 7, 3, 8, 3, 8, 8, 9]], Best fitness = 0.002819107896558426\n",
            "=== Gen54 === \n",
            "Generation 54: Best individual = [[9, 6, 8], [8, 5, 4, 9, 6, 2], [7, 0, 8, 2, 8, 7, 9, 6, 8], [8, 1, 1, 3, 4, 6, 7, 0, 3, 8, 4, 2, 9, 2, 7, 8], [0, 6, 0, 1, 1, 3, 5, 9, 7, 3, 8, 3, 8, 8, 9]], Best fitness = 0.0027890068453304607\n",
            "=== Gen55 === \n",
            "Generation 55: Best individual = [[9, 6, 8], [8, 5, 4, 5, 9, 6, 2, 2], [7, 0, 8, 2, 8, 7, 9, 6, 8], [8, 1, 1, 3, 4, 6, 7, 0, 3, 8, 4, 2, 9, 2, 7, 8], [0, 6, 0, 1, 1, 3, 5, 9, 7, 3, 8, 3, 8, 8, 9]], Best fitness = 0.0027880541082105493\n",
            "=== Gen56 === \n",
            "Generation 56: Best individual = [[9, 6, 8], [8, 5, 4, 5, 9, 6, 2, 2], [7, 0, 8, 2, 8, 7, 9, 6, 8], [8, 1, 1, 3, 4, 6, 7, 0, 3, 8, 4, 2, 9, 2, 7, 8], [0, 6, 1, 1, 3, 5, 9, 7, 3, 8, 3, 8, 8, 9]], Best fitness = 0.002768336449313468\n",
            "=== Gen57 === \n",
            "Generation 57: Best individual = [[6, 8], [8, 5, 4, 5, 9, 6, 2, 2], [7, 0, 8, 2, 8, 8, 7, 9, 6, 8], [8, 1, 1, 3, 4, 6, 7, 0, 3, 8, 7, 4, 2, 9, 2, 7, 8], [0, 6, 1, 1, 3, 5, 9, 7, 3, 8, 3, 8, 8, 9]], Best fitness = 0.002794763699131577\n",
            "=== Gen58 === \n",
            "Generation 58: Best individual = [[6], [8, 5, 4, 5, 9, 3, 6, 2, 2], [7, 0, 8, 2, 8, 8, 7, 9, 6, 8], [8, 1, 1, 3, 4, 6, 7, 0, 3, 8, 7, 4, 2, 9, 2, 7, 8], [0, 6, 1, 1, 3, 5, 9, 1, 7, 3, 8, 3, 8, 8, 9]], Best fitness = 0.0028429699585508375\n",
            "=== Gen59 === \n",
            "Generation 59: Best individual = [[6], [8, 5, 4, 5, 9, 3, 6, 2, 2], [7, 0, 8, 2, 8, 8, 7, 9, 6, 8], [8, 1, 1, 3, 4, 6, 7, 0, 3, 8, 7, 4, 2, 9, 2, 7, 8], [0, 6, 1, 1, 8, 5, 9, 1, 0, 7, 3, 8, 3, 8, 8, 9]], Best fitness = 0.002844773661010808\n",
            "=== Gen60 === \n",
            "Generation 60: Best individual = [[6], [5, 4, 5, 9, 3, 8, 6, 2, 2], [7, 0, 8, 2, 8, 8, 7, 9, 6, 8], [8, 1, 1, 3, 4, 6, 7, 0, 3, 8, 7, 4, 2, 9, 6, 2, 7, 8], [0, 6, 1, 1, 8, 5, 9, 1, 0, 7, 3, 8, 3, 8, 8, 9]], Best fitness = 0.0029227654379096937\n",
            "=== Gen61 === \n",
            "Generation 61: Best individual = [[7], [5, 4, 5, 9, 3, 8, 6, 2, 2], [7, 0, 8, 2, 4, 8, 8, 7, 9, 6, 8], [2, 8, 1, 1, 3, 4, 6, 7, 0, 3, 8, 7, 4, 2, 9, 6, 2, 7, 8], [0, 6, 1, 1, 8, 5, 9, 1, 0, 7, 3, 8, 3, 8, 8, 9]], Best fitness = 0.0028162382604665828\n",
            "=== Gen62 === \n",
            "Generation 62: Best individual = [[7], [5, 4, 5, 3, 8, 6, 2, 2], [7, 0, 8, 2, 4, 8, 8, 7, 9, 6, 8], [2, 8, 1, 1, 3, 4, 6, 7, 0, 3, 8, 7, 4, 2, 9, 6, 2, 7, 8], [0, 6, 1, 1, 8, 5, 9, 1, 0, 7, 3, 8, 3, 8, 8, 9]], Best fitness = 0.0026434867046973218\n",
            "=== Gen63 === \n",
            "Generation 63: Best individual = [[], [5, 3, 8, 6, 2], [7, 0, 8, 2, 4, 8, 8, 7, 9, 6, 8], [2, 8, 1, 1, 3, 4, 6, 7, 0, 3, 8, 7, 4, 2, 9, 6, 2, 7, 8], [0, 6, 1, 1, 8, 5, 9, 6, 1, 0, 7, 3, 8, 3, 8, 8, 9]], Best fitness = 0.0027249849031982043\n",
            "=== Gen64 === \n",
            "Generation 64: Best individual = [[], [5, 3, 8, 6, 2], [0, 7, 8, 2, 4, 8, 8, 7, 9, 6, 8], [2, 8, 1, 1, 3, 4, 6, 7, 0, 3, 8, 7, 4, 2, 9, 6, 2, 7, 8], [0, 6, 1, 1, 8, 5, 9, 6, 1, 3, 0, 7, 3, 8, 3, 8, 8, 9]], Best fitness = 0.002767972631923684\n",
            "=== Gen65 === \n",
            "Generation 65: Best individual = [[2], [5, 3, 8, 6, 2], [0, 7, 8, 2, 4, 8, 8, 7, 9, 6, 8], [2, 8, 1, 1, 3, 4, 6, 7, 0, 3, 8, 7, 4, 2, 9, 6, 2, 7, 8], [0, 6, 1, 1, 8, 5, 9, 6, 1, 3, 0, 7, 3, 8, 3, 8, 8, 9]], Best fitness = 0.002739929018323626\n",
            "=== Gen66 === \n",
            "Generation 66: Best individual = [[2], [5, 3, 8, 6, 2], [0, 7, 8, 2, 4, 8, 8, 7, 9, 6, 8], [2, 8, 1, 3, 4, 6, 7, 0, 3, 8, 7, 4, 2, 9, 6, 2, 7, 8], [0, 6, 1, 1, 8, 5, 9, 6, 1, 3, 0, 7, 3, 8, 3, 8, 8, 9]], Best fitness = 0.0026307821377283833\n",
            "=== Gen67 === \n",
            "Generation 67: Best individual = [[7], [5, 3, 8, 6], [0, 7, 8, 2, 4, 8, 7, 3, 9, 6, 8], [2, 8, 1, 3, 4, 6, 7, 0, 3, 8, 7, 4, 2, 9, 6, 2, 7, 8], [0, 6, 1, 1, 8, 5, 9, 6, 1, 5, 3, 0, 7, 3, 8, 3, 8, 8, 9]], Best fitness = 0.0026377214080930984\n",
            "=== Gen68 === \n",
            "Generation 68: Best individual = [[7], [5, 3, 8, 6], [0, 7, 8, 2, 4, 8, 7, 3, 6, 8], [2, 8, 1, 3, 1, 4, 6, 7, 0, 3, 8, 7, 4, 2, 9, 6, 2, 7, 8], [0, 6, 1, 1, 8, 5, 9, 6, 1, 5, 3, 0, 7, 3, 8, 3, 8, 8, 9]], Best fitness = 0.0026812328883050874\n",
            "=== Gen69 === \n",
            "Generation 69: Best individual = [[7], [5, 3, 8, 6], [0, 7, 8, 2, 4, 8, 7, 3, 6, 8], [2, 8, 1, 3, 1, 4, 6, 7, 0, 3, 7, 2, 9, 6, 2, 7, 8], [0, 6, 1, 1, 8, 5, 6, 1, 5, 3, 0, 7, 3, 8, 3, 8, 9]], Best fitness = 0.0027226766774394694\n",
            "=== Gen70 === \n",
            "Generation 70: Best individual = [[7, 1], [5, 5, 3, 8, 9, 6], [0, 8, 2, 4, 8, 7, 3, 6, 8], [2, 8, 1, 3, 1, 4, 6, 7, 0, 3, 7, 2, 9, 6, 2, 7, 8], [0, 6, 1, 1, 8, 5, 6, 1, 5, 3, 0, 7, 3, 8, 3, 8, 9]], Best fitness = 0.0028965647798713237\n",
            "=== Gen71 === \n",
            "Generation 71: Best individual = [[7, 1], [5, 5, 3, 8, 9, 6], [0, 8, 2, 4, 8, 7, 7, 3, 6, 8], [2, 8, 1, 3, 1, 4, 7, 0, 3, 7, 2, 9, 6, 2, 7, 8], [0, 6, 1, 1, 8, 5, 6, 1, 9, 5, 3, 0, 0, 7, 3, 8, 3, 8, 9]], Best fitness = 0.0028697259103070524\n",
            "=== Gen72 === \n",
            "Generation 72: Best individual = [[7, 0], [5, 5, 3, 8, 9, 3, 6], [0, 8, 2, 4, 8, 7, 7, 3, 6, 8], [2, 8, 1, 3, 1, 4, 7, 0, 3, 7, 2, 9, 6, 2, 7, 8], [0, 6, 1, 1, 8, 5, 6, 1, 9, 5, 5, 3, 0, 0, 7, 3, 8, 3, 8, 9]], Best fitness = 0.0027845424167752984\n",
            "=== Gen73 === \n",
            "Generation 73: Best individual = [[7, 1], [5, 5, 3, 8, 3, 6], [0, 8, 2, 4, 8, 7, 7, 3, 6, 8], [2, 8, 1, 3, 1, 4, 7, 0, 3, 0, 7, 2, 9, 6, 2, 7, 8], [0, 6, 1, 1, 8, 5, 6, 1, 9, 5, 5, 3, 0, 0, 4, 7, 3, 8, 3, 8, 9]], Best fitness = 0.0027626771365021566\n",
            "=== Gen74 === \n",
            "Generation 74: Best individual = [[7], [5, 5, 3, 8, 3], [0, 8, 2, 4, 8, 7, 7, 3, 6, 8], [2, 8, 1, 3, 1, 4, 7, 0, 3, 0, 7, 2, 9, 6, 2, 7, 8], [0, 6, 1, 1, 8, 5, 6, 1, 9, 5, 5, 3, 0, 0, 4, 7, 3, 8, 3, 8, 9]], Best fitness = 0.0028039802804915898\n",
            "=== Gen75 === \n",
            "Generation 75: Best individual = [[7], [5, 5, 3, 8, 3], [0, 8, 2, 4, 8, 7, 7, 4, 3, 6, 8], [2, 8, 1, 3, 1, 4, 7, 0, 3, 0, 7, 2, 9, 6, 2, 4, 7, 8], [0, 6, 1, 1, 8, 5, 6, 1, 9, 5, 5, 3, 0, 0, 4, 7, 3, 8, 3, 8, 9]], Best fitness = 0.002995009207581422\n",
            "=== Gen76 === \n",
            "Generation 76: Best individual = [[], [5, 5, 3, 8, 3], [0, 8, 2, 4, 8, 7, 7, 4, 3, 6, 8], [2, 8, 1, 3, 1, 4, 7, 0, 3, 3, 0, 7, 2, 9, 6, 2, 4, 7, 8], [0, 6, 1, 1, 5, 6, 1, 9, 5, 5, 3, 0, 4, 7, 3, 8, 3, 8, 9]], Best fitness = 0.002860731051954943\n",
            "=== Gen77 === \n",
            "Generation 77: Best individual = [[], [5, 5, 3, 8, 3], [0, 8, 2, 4, 8, 7, 4, 3, 6, 8], [2, 8, 1, 3, 1, 4, 7, 0, 3, 3, 0, 7, 2, 9, 6, 2, 4, 7, 8], [0, 6, 1, 1, 5, 6, 9, 5, 5, 3, 0, 4, 7, 3, 8, 3, 8, 9]], Best fitness = 0.0029042889532769653\n",
            "=== Gen78 === \n",
            "Generation 78: Best individual = [[], [5, 5, 3, 8, 3], [0, 8, 2, 4, 8, 7, 4, 0, 3, 6, 8], [2, 8, 3, 1, 4, 7, 0, 3, 3, 3, 0, 7, 2, 9, 6, 2, 4, 7, 8], [0, 6, 1, 1, 5, 6, 9, 5, 5, 3, 0, 4, 7, 3, 8, 3, 8, 9]], Best fitness = 0.00298287274174456\n",
            "=== Gen79 === \n",
            "Generation 79: Best individual = [[7], [5, 5, 3, 8, 3], [0, 8, 2, 4, 8, 7, 4, 0, 3, 6, 8], [2, 8, 3, 1, 4, 7, 0, 3, 3, 3, 0, 7, 2, 9, 6, 2, 4, 7, 8], [0, 6, 1, 1, 5, 6, 9, 5, 5, 3, 0, 4, 7, 3, 3, 8, 9]], Best fitness = 0.00304950790252866\n",
            "=== Gen80 === \n",
            "Generation 80: Best individual = [[7], [5, 5, 3, 8, 1, 3], [0, 8, 2, 4, 8, 7, 4, 0, 6, 8], [2, 8, 3, 1, 4, 7, 0, 3, 3, 3, 0, 7, 2, 9, 6, 2, 4, 7, 8], [6, 1, 1, 5, 6, 9, 5, 5, 3, 0, 4, 7, 3, 3, 8, 9]], Best fitness = 0.0030855309167950803\n",
            "=== Gen81 === \n",
            "Generation 81: Best individual = [[], [5, 1, 5, 3, 8, 1, 3], [0, 8, 2, 4, 8, 7, 4, 0, 6, 8], [2, 8, 3, 1, 4, 7, 0, 3, 3, 3, 0, 7, 2, 9, 6, 2, 4, 7, 8], [6, 1, 1, 5, 6, 9, 5, 5, 3, 0, 4, 7, 3, 3, 8, 9]], Best fitness = 0.003025766095922792\n",
            "=== Gen82 === \n",
            "Generation 82: Best individual = [[], [5, 1, 5, 3, 8, 1, 3], [0, 8, 2, 4, 8, 7, 4, 0, 6, 8], [2, 8, 3, 1, 4, 7, 0, 3, 3, 3, 0, 7, 2, 9, 6, 2, 4, 7, 8], [6, 1, 1, 5, 6, 9, 5, 5, 3, 0, 4, 7, 3, 3, 8, 9]], Best fitness = 0.0029764832617115884\n",
            "=== Gen83 === \n",
            "Generation 83: Best individual = [[], [5, 1, 5, 3, 8, 1, 3], [0, 8, 2, 4, 8, 7, 4, 0, 6, 8], [2, 8, 3, 1, 4, 7, 0, 3, 3, 3, 0, 2, 7, 2, 9, 6, 2, 4, 7, 8], [6, 1, 1, 5, 6, 9, 5, 5, 0, 4, 7, 3, 3, 8, 9]], Best fitness = 0.0029764832617115884\n",
            "=== Gen84 === \n",
            "Generation 84: Best individual = [[4], [5, 1, 5, 3, 0, 8, 1, 3], [0, 8, 2, 4, 8, 7, 4, 0, 6, 8], [2, 3, 1, 4, 7, 0, 3, 3, 3, 0, 2, 7, 2, 9, 6, 2, 4, 5, 7, 8], [6, 1, 1, 5, 6, 9, 5, 5, 0, 4, 7, 3, 3, 8, 9]], Best fitness = 0.0029106876939452415\n",
            "=== Gen85 === \n",
            "Generation 85: Best individual = [[4], [5, 1, 5, 3, 0, 8, 1, 3], [0, 8, 2, 4, 8, 7, 4, 0, 6, 8], [2, 3, 1, 4, 7, 0, 3, 3, 3, 0, 2, 7, 2, 9, 6, 2, 4, 5, 7, 8], [6, 1, 1, 5, 6, 9, 5, 5, 0, 4, 7, 3, 3, 8, 9]], Best fitness = 0.002808628381647063\n",
            "=== Gen86 === \n",
            "Generation 86: Best individual = [[4], [5, 1, 5, 3, 7, 6, 0, 8, 1, 3], [0, 8, 2, 8, 7, 4, 0, 6, 8], [2, 3, 1, 4, 7, 0, 3, 3, 3, 0, 2, 7, 2, 9, 6, 2, 4, 5, 7, 8], [6, 1, 1, 5, 6, 9, 5, 5, 0, 4, 7, 3, 3, 8, 9]], Best fitness = 0.002852468530579857\n",
            "=== Gen87 === \n",
            "Generation 87: Best individual = [[], [5, 1, 5, 3, 7, 6, 0, 8, 1, 3], [0, 8, 2, 8, 7, 4, 0, 6, 5, 8], [2, 3, 1, 4, 7, 0, 3, 3, 3, 0, 2, 2, 1, 9, 6, 2, 4, 5, 7, 8], [6, 1, 1, 5, 6, 9, 5, 0, 4, 7, 3, 8]], Best fitness = 0.00281380340707079\n",
            "=== Gen88 === \n",
            "Generation 88: Best individual = [[], [5, 1, 5, 3, 7, 6, 0, 8, 1, 3], [0, 8, 2, 8, 7, 4, 0, 6, 5, 8], [2, 3, 1, 4, 7, 0, 3, 3, 3, 0, 2, 2, 1, 9, 6, 4, 5, 7, 8], [6, 1, 1, 5, 6, 9, 5, 0, 4, 7, 3, 8]], Best fitness = 0.002936687463042612\n",
            "=== Gen89 === \n",
            "Generation 89: Best individual = [[], [5, 1, 5, 3, 7, 6, 0, 8, 1, 3], [8, 0, 8, 2, 8, 7, 4, 0, 6, 5, 8], [2, 3, 1, 4, 7, 0, 3, 3, 3, 0, 2, 2, 1, 9, 6, 4, 5, 7, 8], [6, 1, 5, 6, 9, 5, 0, 4, 7, 8]], Best fitness = 0.0030383004864351602\n",
            "=== Gen90 === \n",
            "Generation 90: Best individual = [[], [5, 1, 5, 3, 7, 6, 0, 8, 1, 3], [4, 8, 0, 8, 2, 8, 7, 4, 0, 6, 5, 8], [2, 3, 1, 4, 7, 0, 3, 3, 3, 0, 2, 2, 1, 9, 6, 4, 5, 7, 8], [6, 1, 5, 6, 9, 5, 0, 5, 4, 7, 8]], Best fitness = 0.003021317090137673\n",
            "=== Gen91 === \n",
            "Generation 91: Best individual = [[], [5, 1, 5, 3, 7, 6, 0, 8, 1, 3], [4, 8, 0, 8, 2, 8, 4, 0, 6, 5, 8], [2, 1, 4, 7, 0, 3, 3, 3, 0, 2, 2, 1, 9, 6, 4, 5, 7, 8], [6, 1, 5, 6, 9, 5, 0, 5, 4, 7, 8]], Best fitness = 0.0029462878931880527\n",
            "=== Gen92 === \n",
            "Generation 92: Best individual = [[], [5, 1, 5, 3, 7, 6, 0, 8, 1, 3], [4, 0, 8, 2, 8, 4, 0, 6, 5, 8], [2, 1, 4, 7, 0, 3, 3, 3, 0, 2, 2, 1, 9, 6, 4, 5, 7, 8], [6, 1, 5, 6, 9, 5, 0, 5, 4, 7, 8]], Best fitness = 0.00306147613969964\n",
            "=== Gen93 === \n",
            "Generation 93: Best individual = [[], [5, 1, 5, 3, 7, 6, 0, 8, 1, 3], [4, 0, 8, 2, 8, 4, 0, 6, 5, 8], [2, 1, 4, 7, 0, 3, 3, 3, 0, 2, 2, 1, 9, 6, 4, 5, 7, 8], [6, 1, 5, 6, 9, 5, 0, 5, 4, 7, 8]], Best fitness = 0.0031251664074575403\n",
            "=== Gen94 === \n",
            "Generation 94: Best individual = [[1], [5, 1, 5, 3, 7, 6, 0, 8, 1, 3], [4, 0, 8, 2, 8, 4, 0, 6, 5, 8], [2, 1, 4, 7, 0, 3, 3, 3, 0, 9, 2, 2, 1, 9, 6, 4, 5, 7, 8], [6, 1, 5, 6, 9, 5, 0, 5, 4, 7, 8]], Best fitness = 0.0031251664074575403\n",
            "=== Gen95 === \n",
            "Generation 95: Best individual = [[1], [5, 1, 5, 3, 7, 6, 0, 1, 3], [4, 0, 8, 2, 8, 4, 0, 6, 5, 8], [2, 1, 4, 7, 0, 3, 3, 3, 0, 9, 2, 2, 1, 9, 6, 4, 5, 7, 8], [6, 1, 5, 6, 9, 5, 0, 5, 4, 7, 8]], Best fitness = 0.0029252005290199227\n",
            "=== Gen96 === \n",
            "Generation 96: Best individual = [[1], [5, 1, 5, 3, 7, 6, 0, 1, 3], [4, 0, 8, 2, 8, 4, 0, 6, 5, 8], [2, 1, 4, 7, 0, 3, 3, 3, 0, 9, 2, 2, 1, 9, 6, 4, 5, 7, 8], [6, 1, 5, 6, 9, 5, 0, 5, 4, 7, 8]], Best fitness = 0.0029431107678719163\n",
            "=== Gen97 === \n",
            "Generation 97: Best individual = [[1, 1], [5, 1, 5, 3, 7, 6, 0, 3], [4, 0, 8, 2, 8, 4, 0, 6, 5, 8], [2, 1, 4, 7, 0, 3, 3, 3, 0, 9, 2, 2, 1, 9, 6, 4, 5, 7, 8], [6, 1, 5, 6, 9, 5, 0, 5, 4, 7, 8]], Best fitness = 0.0031085969567539863\n",
            "=== Gen98 === \n",
            "Generation 98: Best individual = [[], [5, 1, 5, 3, 6, 0, 3], [4, 0, 8, 8, 2, 8, 4, 0, 6, 5, 8], [2, 1, 4, 7, 0, 3, 3, 3, 0, 9, 2, 2, 1, 9, 6, 4, 5, 7, 8], [6, 1, 5, 6, 9, 5, 0, 5, 4, 7, 8]], Best fitness = 0.003209906518702938\n",
            "=== Gen99 === \n",
            "Generation 99: Best individual = [[], [5, 1, 5, 3, 6, 0, 3], [4, 0, 8, 8, 2, 8, 4, 0, 6, 5, 8], [2, 1, 4, 7, 0, 3, 3, 3, 0, 9, 2, 2, 1, 9, 6, 4, 5, 7, 8], [6, 1, 5, 6, 9, 5, 5, 0, 5, 4, 7]], Best fitness = 0.0033536868123235438\n"
          ]
        }
      ]
    },
    {
      "cell_type": "code",
      "source": [
        "def print_routes(individual):\n",
        "    # Prints out the routes taken by each vehicle in the individual\n",
        "    for i in range(len(individual)):\n",
        "        vehicle = vehicle_list[i]\n",
        "        deliveries = individual[i]\n",
        "        if len(deliveries) == 0:\n",
        "            print(f'Vehicle {i+1} did not make any deliveries.')\n",
        "            continue\n",
        "        # Print out the starting location of the vehicle\n",
        "        print(f'Vehicle {i+1} starting location: ({vehicle[0][0]}, {vehicle[1][0]})')\n",
        "        # Print out the delivery locations\n",
        "        for j in range(len(deliveries)):\n",
        "            location = location_list[deliveries[j]]\n",
        "            print(f'  Delivery {j+1}: ({location[0][0]}, {location[1][0]})')\n",
        "        # Print out the ending location of the vehicle\n",
        "        print(f'  Vehicle {i+1} ending location: ({vehicle[0][0]}, {vehicle[1][0]})')\n",
        "        print('\\n')\n",
        "\n",
        "# Call this function at the end of the main loop to print out the routes of the best individual\n",
        "best_individual = sorted(population, key=lambda x: calculate_fitness(x), reverse=True)[0]\n",
        "print_routes(best_individual)"
      ],
      "metadata": {
        "colab": {
          "base_uri": "https://localhost:8080/"
        },
        "id": "ZmKBEhgCQlNN",
        "outputId": "43102624-399d-4a65-8976-b1c0d3593a4f"
      },
      "execution_count": 227,
      "outputs": [
        {
          "output_type": "stream",
          "name": "stdout",
          "text": [
            "Vehicle 1 did not make any deliveries.\n",
            "Vehicle 2 starting location: (0, 0)\n",
            "  Delivery 1: (6, 4)\n",
            "  Delivery 2: (8, 3)\n",
            "  Delivery 3: (6, 4)\n",
            "  Delivery 4: (4, 7)\n",
            "  Delivery 5: (3, 8)\n",
            "  Delivery 6: (2, 5)\n",
            "  Delivery 7: (4, 7)\n",
            "  Vehicle 2 ending location: (0, 0)\n",
            "\n",
            "\n",
            "Vehicle 3 starting location: (0, 0)\n",
            "  Delivery 1: (1, 2)\n",
            "  Delivery 2: (2, 5)\n",
            "  Delivery 3: (5, 6)\n",
            "  Delivery 4: (5, 6)\n",
            "  Delivery 5: (9, 9)\n",
            "  Delivery 6: (5, 6)\n",
            "  Delivery 7: (1, 2)\n",
            "  Delivery 8: (2, 5)\n",
            "  Delivery 9: (3, 8)\n",
            "  Delivery 10: (6, 4)\n",
            "  Delivery 11: (5, 6)\n",
            "  Vehicle 3 ending location: (0, 0)\n",
            "\n",
            "\n",
            "Vehicle 4 starting location: (0, 0)\n",
            "  Delivery 1: (9, 9)\n",
            "  Delivery 2: (8, 3)\n",
            "  Delivery 3: (1, 2)\n",
            "  Delivery 4: (7, 1)\n",
            "  Delivery 5: (2, 5)\n",
            "  Delivery 6: (4, 7)\n",
            "  Delivery 7: (4, 7)\n",
            "  Delivery 8: (4, 7)\n",
            "  Delivery 9: (2, 5)\n",
            "  Delivery 10: (10, 10)\n",
            "  Delivery 11: (9, 9)\n",
            "  Delivery 12: (9, 9)\n",
            "  Delivery 13: (8, 3)\n",
            "  Delivery 14: (10, 10)\n",
            "  Delivery 15: (3, 8)\n",
            "  Delivery 16: (1, 2)\n",
            "  Delivery 17: (6, 4)\n",
            "  Delivery 18: (7, 1)\n",
            "  Delivery 19: (5, 6)\n",
            "  Vehicle 4 ending location: (0, 0)\n",
            "\n",
            "\n",
            "Vehicle 5 starting location: (0, 0)\n",
            "  Delivery 1: (3, 8)\n",
            "  Delivery 2: (8, 3)\n",
            "  Delivery 3: (6, 4)\n",
            "  Delivery 4: (3, 8)\n",
            "  Delivery 5: (10, 10)\n",
            "  Delivery 6: (6, 4)\n",
            "  Delivery 7: (6, 4)\n",
            "  Delivery 8: (2, 5)\n",
            "  Delivery 9: (6, 4)\n",
            "  Delivery 10: (1, 2)\n",
            "  Delivery 11: (7, 1)\n",
            "  Vehicle 5 ending location: (0, 0)\n",
            "\n",
            "\n"
          ]
        }
      ]
    }
  ]
}