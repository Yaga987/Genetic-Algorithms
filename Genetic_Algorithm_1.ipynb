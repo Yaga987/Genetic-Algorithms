{
  "nbformat": 4,
  "nbformat_minor": 0,
  "metadata": {
    "colab": {
      "provenance": []
    },
    "kernelspec": {
      "name": "python3",
      "display_name": "Python 3"
    },
    "language_info": {
      "name": "python"
    }
  },
  "cells": [
    {
      "cell_type": "code",
      "source": [
        "!pip install ypstruct"
      ],
      "metadata": {
        "colab": {
          "base_uri": "https://localhost:8080/"
        },
        "id": "CwjMNsc8lPWt",
        "outputId": "ff694c96-0062-4fb1-90bf-9ed031fc0feb"
      },
      "execution_count": 87,
      "outputs": [
        {
          "output_type": "stream",
          "name": "stdout",
          "text": [
            "Looking in indexes: https://pypi.org/simple, https://us-python.pkg.dev/colab-wheels/public/simple/\n",
            "Requirement already satisfied: ypstruct in /usr/local/lib/python3.8/dist-packages (0.0.2)\n"
          ]
        }
      ]
    },
    {
      "cell_type": "code",
      "execution_count": 88,
      "metadata": {
        "id": "u2M5iw_vjyeh"
      },
      "outputs": [],
      "source": [
        "import numpy as np\n",
        "import math\n",
        "import matplotlib.pyplot as plt\n",
        "from ypstruct import structure"
      ]
    },
    {
      "cell_type": "markdown",
      "source": [
        "*Test function*"
      ],
      "metadata": {
        "id": "yIRwg-zoku6o"
      }
    },
    {
      "cell_type": "code",
      "source": [
        "def cylinder(r,h):\n",
        "  pi = 3\n",
        "  return sum(pi*h*(r**2))"
      ],
      "metadata": {
        "id": "S-I-LzkLkOYz"
      },
      "execution_count": 89,
      "outputs": []
    },
    {
      "cell_type": "markdown",
      "source": [
        "*Problem Define*"
      ],
      "metadata": {
        "id": "vBmZaNOmkzkC"
      }
    },
    {
      "cell_type": "code",
      "source": [
        "problem = structure()\n",
        "problem.costfunc = cylinder\n",
        "problem.nvar = 5\n",
        "problem.varmin = -10\n",
        "problem.varmax = 10"
      ],
      "metadata": {
        "id": "Xr1jturTlCV_"
      },
      "execution_count": 90,
      "outputs": []
    },
    {
      "cell_type": "markdown",
      "source": [
        "*Parameters*"
      ],
      "metadata": {
        "id": "uH1EsRT_k3Ti"
      }
    },
    {
      "cell_type": "code",
      "source": [
        "params = structure()\n",
        "params.maxit = 100\n",
        "params.npop = 25\n",
        "params.pc = 2\n",
        "params.gamma = 0.1\n",
        "params.mutationrate = 0.2\n",
        "params.sigma = 0.1"
      ],
      "metadata": {
        "id": "rQ0EcV5YmD3P"
      },
      "execution_count": 91,
      "outputs": []
    },
    {
      "cell_type": "markdown",
      "source": [
        "*Run*"
      ],
      "metadata": {
        "id": "zwCNn3Znk8iH"
      }
    },
    {
      "cell_type": "code",
      "source": [
        "def crossover(p1,p2,gamma=0.1):\n",
        "  c1 = p1.deepcopy()\n",
        "  c2 = p2.deepcopy()\n",
        "  alpha = np.random.uniform(-gamma,1+gamma,*c1.position.shape)\n",
        "  c1.position = alpha*p1.position + (1-alpha)*p2.position\n",
        "  c2.position = alpha*p2.position + (1-alpha)*p1.position\n",
        "  return c1,c2"
      ],
      "metadata": {
        "id": "-6RgdcXCr2dU"
      },
      "execution_count": 92,
      "outputs": []
    },
    {
      "cell_type": "code",
      "source": [
        "def mutate_pos(a,mutationrate,sigma):\n",
        "  new_a = a.deepcopy()\n",
        "  flag = np.random.rand(*a.position.shape)  <= mutationrate\n",
        "  ind = np.argwhere(flag)\n",
        "  new_a.position[ind] = a.position[ind] + sigma*np.random.randn(*ind.shape)\n",
        "  return new_a"
      ],
      "metadata": {
        "id": "eoHE_IJdtHSl"
      },
      "execution_count": 93,
      "outputs": []
    },
    {
      "cell_type": "code",
      "source": [
        "def mutate_height(a,mutationrate,sigma):\n",
        "  new_a = a.deepcopy()\n",
        "  flag = np.random.rand(*a.height.shape)  <= mutationrate\n",
        "  ind = np.argwhere(flag)\n",
        "  new_a.height[ind] = a.height[ind] + sigma*np.random.randn(*ind.shape)\n",
        "  return new_a"
      ],
      "metadata": {
        "id": "Dl7w27esvQ7X"
      },
      "execution_count": 94,
      "outputs": []
    },
    {
      "cell_type": "code",
      "source": [
        "def apply_bound_pos(a,varmin,varmax):\n",
        "  a.position = np.maximum(a.position, varmin)\n",
        "  a.position = np.minimum(a.position, varmax)"
      ],
      "metadata": {
        "id": "12l6Ker0wLfW"
      },
      "execution_count": 95,
      "outputs": []
    },
    {
      "cell_type": "code",
      "source": [
        "def apply_bound_height(a,varmin,varmax):\n",
        "  a.height = np.maximum(a.height, varmin)\n",
        "  a.height = np.minimum(a.height, varmax)"
      ],
      "metadata": {
        "id": "VuMuQnigwbOi"
      },
      "execution_count": 96,
      "outputs": []
    },
    {
      "cell_type": "code",
      "source": [
        "def run(problem, params):\n",
        "  costfunc = problem.costfunc\n",
        "  nvar = problem.nvar\n",
        "  varmin = problem.varmin\n",
        "  varmax = problem.varmax\n",
        "\n",
        "  maxit = params.maxit\n",
        "  npop = params.npop\n",
        "  \n",
        "  pc = params.pc\n",
        "  nc = int(np.round(pc*npop/2)*2)\n",
        "  gamma = params.gamma\n",
        "  mutationrate = params.mutationrate\n",
        "  sigma = params.sigma\n",
        "  #Create individual\n",
        "\n",
        "  empty_inv = structure()\n",
        "  empty_inv.position = None\n",
        "  empty_inv.height = None\n",
        "  empty_inv.cost = None\n",
        "\n",
        "  #Best Sol\n",
        "  bestsol = empty_inv.deepcopy()\n",
        "  bestsol.cost = np.inf \n",
        "\n",
        "  #Initialize Population\n",
        "\n",
        "  pop = empty_inv.repeat(npop)\n",
        "  for l in range(0,npop):\n",
        "    pop[l].position = np.random.uniform(varmin, varmax, nvar)\n",
        "    pop[l].height = np.random.uniform(varmin, varmax, nvar)\n",
        "    pop[l].cost = costfunc(pop[l].position, pop[l].height)\n",
        "    if pop[l].cost < bestsol.cost:\n",
        "        bestsol = pop[l].deepcopy()\n",
        "\n",
        "  #Best cost of Iteration\n",
        "  bestcost = np.empty(maxit)\n",
        "\n",
        "  #Main part\n",
        "  for it in range(maxit):\n",
        "    popc = []\n",
        "    for k in range(nc//2):\n",
        "      q = np.random.permutation(npop)\n",
        "      p1 = pop[q[0]]\n",
        "      p2 = pop[q[1]]\n",
        "\n",
        "      #Cross-Over\n",
        "      c1, c2 = crossover(p1,p2,gamma)\n",
        "\n",
        "      #Mutate\n",
        "      c1 = mutate_pos(c1, mutationrate, sigma)\n",
        "      c1 = mutate_height(c1, mutationrate, sigma)\n",
        "      c2 = mutate_pos(c2, mutationrate, sigma)\n",
        "      c2 = mutate_height(c2, mutationrate, sigma)\n",
        "\n",
        "      #Bounds\n",
        "      apply_bound_pos(c1,varmin,varmax)\n",
        "      apply_bound_pos(c2,varmin,varmax)\n",
        "      apply_bound_height(c1,varmin,varmax)\n",
        "      apply_bound_height(c2,varmin,varmax)\n",
        "\n",
        "      #Evaluate\n",
        "      c1.cost = costfunc(c1.position, c1.height)\n",
        "      if c1.cost < bestsol.cost:\n",
        "        bestsol = c1.deepcopy()\n",
        "\n",
        "      c2.cost = costfunc(c2.position, c2.height)\n",
        "      if c2.cost < bestsol.cost:\n",
        "        bestsol = c2.deepcopy()\n",
        "\n",
        "      #Add\n",
        "      popc.append(c1)\n",
        "      popc.append(c2)\n",
        "\n",
        "    #Merge, Sort and Select\n",
        "    pop += popc\n",
        "    pop = sorted(pop, key=lambda t: t.cost)\n",
        "    pop = pop[0:npop]\n",
        "\n",
        "    #Store\n",
        "    bestcost[it] = bestsol.cost\n",
        "\n",
        "    #Show Information\n",
        "    print(f'Iteration {it}: Best Cost = {bestcost[it]}')\n",
        "\n",
        "  out = structure()\n",
        "  out.pop = pop\n",
        "  out.bestsol = bestsol\n",
        "  out.bestcost = bestcost\n",
        "  return out"
      ],
      "metadata": {
        "id": "i_btCV0CmMO-"
      },
      "execution_count": 97,
      "outputs": []
    },
    {
      "cell_type": "code",
      "source": [
        "out = run(problem, params)"
      ],
      "metadata": {
        "colab": {
          "base_uri": "https://localhost:8080/"
        },
        "id": "F82OPUmxmc5k",
        "outputId": "d28b2486-b375-438b-d547-bf68dd5b228b"
      },
      "execution_count": 98,
      "outputs": [
        {
          "output_type": "stream",
          "name": "stdout",
          "text": [
            "Iteration 0: Best Cost = -2376.736458876373\n",
            "Iteration 1: Best Cost = -2671.6576719605564\n",
            "Iteration 2: Best Cost = -2673.0820506684186\n",
            "Iteration 3: Best Cost = -2766.5881940443614\n",
            "Iteration 4: Best Cost = -2770.5029671231996\n",
            "Iteration 5: Best Cost = -3085.192718845511\n",
            "Iteration 6: Best Cost = -3085.192718845511\n",
            "Iteration 7: Best Cost = -3412.3258384359483\n",
            "Iteration 8: Best Cost = -3412.3258384359483\n",
            "Iteration 9: Best Cost = -3483.4107886579623\n",
            "Iteration 10: Best Cost = -3483.4107886579623\n",
            "Iteration 11: Best Cost = -3553.5546086626255\n",
            "Iteration 12: Best Cost = -3553.5546086626255\n",
            "Iteration 13: Best Cost = -3598.7447016224123\n",
            "Iteration 14: Best Cost = -3691.8617024472906\n",
            "Iteration 15: Best Cost = -3762.8185222586117\n",
            "Iteration 16: Best Cost = -3780.599492085235\n",
            "Iteration 17: Best Cost = -3814.8667684296697\n",
            "Iteration 18: Best Cost = -3851.06553996978\n",
            "Iteration 19: Best Cost = -3883.3041936385825\n",
            "Iteration 20: Best Cost = -3924.801896006976\n",
            "Iteration 21: Best Cost = -3957.457235070235\n",
            "Iteration 22: Best Cost = -4012.9621748671793\n",
            "Iteration 23: Best Cost = -4040.4539587676863\n",
            "Iteration 24: Best Cost = -4058.3236174803988\n",
            "Iteration 25: Best Cost = -4081.195867197067\n",
            "Iteration 26: Best Cost = -4110.339930671515\n",
            "Iteration 27: Best Cost = -4159.49540292764\n",
            "Iteration 28: Best Cost = -4186.767070779031\n",
            "Iteration 29: Best Cost = -4224.775999932754\n",
            "Iteration 30: Best Cost = -4266.635619700704\n",
            "Iteration 31: Best Cost = -4290.976653296614\n",
            "Iteration 32: Best Cost = -4317.884898444761\n",
            "Iteration 33: Best Cost = -4355.799547565679\n",
            "Iteration 34: Best Cost = -4386.322822481372\n",
            "Iteration 35: Best Cost = -4459.158814977473\n",
            "Iteration 36: Best Cost = -4517.656836234472\n",
            "Iteration 37: Best Cost = -4517.656836234472\n",
            "Iteration 38: Best Cost = -4519.41923306887\n",
            "Iteration 39: Best Cost = -4555.949204576657\n",
            "Iteration 40: Best Cost = -4579.216695829717\n",
            "Iteration 41: Best Cost = -4595.606473682766\n",
            "Iteration 42: Best Cost = -4659.546424753509\n",
            "Iteration 43: Best Cost = -4664.223957782971\n",
            "Iteration 44: Best Cost = -4679.412127782185\n",
            "Iteration 45: Best Cost = -4707.079036758052\n",
            "Iteration 46: Best Cost = -4751.102660192821\n",
            "Iteration 47: Best Cost = -4771.170973035885\n",
            "Iteration 48: Best Cost = -4799.475847667547\n",
            "Iteration 49: Best Cost = -4822.003914298385\n",
            "Iteration 50: Best Cost = -4842.168954518056\n",
            "Iteration 51: Best Cost = -4858.70997376381\n",
            "Iteration 52: Best Cost = -4893.0477712638985\n",
            "Iteration 53: Best Cost = -4912.696890562951\n",
            "Iteration 54: Best Cost = -4962.242754663139\n",
            "Iteration 55: Best Cost = -4962.242754663139\n",
            "Iteration 56: Best Cost = -5036.088053643936\n",
            "Iteration 57: Best Cost = -5036.088053643936\n",
            "Iteration 58: Best Cost = -5077.9724456889435\n",
            "Iteration 59: Best Cost = -5099.506857082725\n",
            "Iteration 60: Best Cost = -5190.593112813781\n",
            "Iteration 61: Best Cost = -5202.548453954767\n",
            "Iteration 62: Best Cost = -5213.545823635692\n",
            "Iteration 63: Best Cost = -5224.929971154806\n",
            "Iteration 64: Best Cost = -5271.600278607477\n",
            "Iteration 65: Best Cost = -5297.801357433006\n",
            "Iteration 66: Best Cost = -5337.333523173094\n",
            "Iteration 67: Best Cost = -5366.253885781628\n",
            "Iteration 68: Best Cost = -5437.107717134978\n",
            "Iteration 69: Best Cost = -5437.107717134978\n",
            "Iteration 70: Best Cost = -5450.724736224883\n",
            "Iteration 71: Best Cost = -5486.205688417465\n",
            "Iteration 72: Best Cost = -5508.188639234171\n",
            "Iteration 73: Best Cost = -5517.912418705733\n",
            "Iteration 74: Best Cost = -5552.684103500722\n",
            "Iteration 75: Best Cost = -5570.11740131893\n",
            "Iteration 76: Best Cost = -5615.803730967475\n",
            "Iteration 77: Best Cost = -5632.351176767073\n",
            "Iteration 78: Best Cost = -5667.73228979413\n",
            "Iteration 79: Best Cost = -5707.43788010151\n",
            "Iteration 80: Best Cost = -5717.140013679556\n",
            "Iteration 81: Best Cost = -5770.564770878302\n",
            "Iteration 82: Best Cost = -5790.676097978921\n",
            "Iteration 83: Best Cost = -5829.925382706446\n",
            "Iteration 84: Best Cost = -5847.9975655229155\n",
            "Iteration 85: Best Cost = -5880.38859156766\n",
            "Iteration 86: Best Cost = -5887.791038704777\n",
            "Iteration 87: Best Cost = -5894.786247013078\n",
            "Iteration 88: Best Cost = -5940.751760926068\n",
            "Iteration 89: Best Cost = -5997.355801871019\n",
            "Iteration 90: Best Cost = -6036.394228168505\n",
            "Iteration 91: Best Cost = -6041.522447907813\n",
            "Iteration 92: Best Cost = -6050.172110296826\n",
            "Iteration 93: Best Cost = -6085.75569666027\n",
            "Iteration 94: Best Cost = -6101.04787722759\n",
            "Iteration 95: Best Cost = -6117.793510540907\n",
            "Iteration 96: Best Cost = -6205.868047763441\n",
            "Iteration 97: Best Cost = -6231.605879554079\n",
            "Iteration 98: Best Cost = -6244.479666198975\n",
            "Iteration 99: Best Cost = -6265.646653682677\n"
          ]
        }
      ]
    },
    {
      "cell_type": "markdown",
      "source": [
        "*Results*"
      ],
      "metadata": {
        "id": "MYxF2tWCk-s2"
      }
    },
    {
      "cell_type": "code",
      "source": [
        "plt.plot(out.bestcost)\n",
        "# plt.semilogy(out.bestcost)\n",
        "plt.xlim(0,params.maxit)\n",
        "plt.xlabel('Iterations')\n",
        "plt.ylabel('Best Cost')\n",
        "plt.title('Genetic')\n",
        "plt.grid(True)\n",
        "plt.show()"
      ],
      "metadata": {
        "colab": {
          "base_uri": "https://localhost:8080/",
          "height": 295
        },
        "id": "kYNvPgK70MWh",
        "outputId": "ff8cb851-3547-4dfd-ca60-8c13549d0666"
      },
      "execution_count": 104,
      "outputs": [
        {
          "output_type": "display_data",
          "data": {
            "text/plain": [
              "<Figure size 432x288 with 1 Axes>"
            ],
            "image/png": "[encoded data removed]"
          },
          "metadata": {
            "needs_background": "light"
          }
        }
      ]
    },
    {
      "cell_type": "code",
      "source": [
        "# out.pop[5]"
      ],
      "metadata": {
        "id": "qrxmKP_Wo_7d"
      },
      "execution_count": 100,
      "outputs": []
    },
    {
      "cell_type": "code",
      "source": [
        "# for c in range(0,params.npop):\n",
        "#   print(out.pop[c])"
      ],
      "metadata": {
        "id": "CrOxQpeKow6s"
      },
      "execution_count": 101,
      "outputs": []
    }
  ]
}